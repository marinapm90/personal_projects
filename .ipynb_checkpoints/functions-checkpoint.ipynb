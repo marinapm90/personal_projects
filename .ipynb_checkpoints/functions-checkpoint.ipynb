{
 "cells": [
  {
   "cell_type": "code",
   "execution_count": 3,
   "metadata": {},
   "outputs": [],
   "source": [
    "import pandas as pd\n",
    "import seaborn as sns\n",
    "import matplotlib.pyplot as plt"
   ]
  },
  {
   "cell_type": "code",
   "execution_count": 4,
   "metadata": {},
   "outputs": [],
   "source": [
    "def plot_boxplot(col, df):\n",
    "    plot = df.boxplot(col)\n",
    "    return plot\n",
    "\n",
    "def plot_bar(df):\n",
    "    plot = df.plot(kind='bar')\n",
    "    return plot\n",
    "\n",
    "def plot_scatter(df,col1,col2):\n",
    "    plot = plt.scatter(df[col1],df[col2], alpha=0.5);\n",
    "    return plot\n",
    "\n",
    "def plot_line(df):\n",
    "    plot = df.plot(kind='line', style='.-')\n",
    "    plt.legend(loc='best', bbox_to_anchor=(1.0, 0.5));\n",
    "    return plot\n",
    "\n",
    "def plot_hist(df,col):\n",
    "    plot = df[col].hist();\n",
    "    return plot\n",
    "\n"
   ]
  }
 ],
 "metadata": {
  "kernelspec": {
   "display_name": "Python 3",
   "language": "python",
   "name": "python3"
  },
  "language_info": {
   "codemirror_mode": {
    "name": "ipython",
    "version": 3
   },
   "file_extension": ".py",
   "mimetype": "text/x-python",
   "name": "python",
   "nbconvert_exporter": "python",
   "pygments_lexer": "ipython3",
   "version": "3.6.8"
  }
 },
 "nbformat": 4,
 "nbformat_minor": 2
}
