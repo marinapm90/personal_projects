{
 "cells": [
  {
   "cell_type": "code",
   "execution_count": 5,
   "metadata": {},
   "outputs": [
    {
     "ename": "AttributeError",
     "evalue": "module 'wrangling' has no attribute 'category'",
     "output_type": "error",
     "traceback": [
      "\u001b[0;31m---------------------------------------------------------------------------\u001b[0m",
      "\u001b[0;31mAttributeError\u001b[0m                            Traceback (most recent call last)",
      "\u001b[0;32m<ipython-input-5-dddcfc32f366>\u001b[0m in \u001b[0;36m<module>\u001b[0;34m\u001b[0m\n\u001b[1;32m     45\u001b[0m \u001b[0;34m\u001b[0m\u001b[0m\n\u001b[1;32m     46\u001b[0m \u001b[0;32mif\u001b[0m \u001b[0m__name__\u001b[0m \u001b[0;34m==\u001b[0m \u001b[0;34m\"__main__\"\u001b[0m\u001b[0;34m:\u001b[0m\u001b[0;34m\u001b[0m\u001b[0;34m\u001b[0m\u001b[0m\n\u001b[0;32m---> 47\u001b[0;31m     \u001b[0mmain\u001b[0m\u001b[0;34m(\u001b[0m\u001b[0;34m)\u001b[0m\u001b[0;34m\u001b[0m\u001b[0;34m\u001b[0m\u001b[0m\n\u001b[0m\u001b[1;32m     48\u001b[0m \u001b[0;34m\u001b[0m\u001b[0m\n",
      "\u001b[0;32m<ipython-input-5-dddcfc32f366>\u001b[0m in \u001b[0;36mmain\u001b[0;34m()\u001b[0m\n\u001b[1;32m     39\u001b[0m \u001b[0;32mdef\u001b[0m \u001b[0mmain\u001b[0m\u001b[0;34m(\u001b[0m\u001b[0;34m)\u001b[0m\u001b[0;34m:\u001b[0m\u001b[0;34m\u001b[0m\u001b[0;34m\u001b[0m\u001b[0m\n\u001b[1;32m     40\u001b[0m     \u001b[0mkickstarter\u001b[0m \u001b[0;34m=\u001b[0m \u001b[0mread_file\u001b[0m\u001b[0;34m(\u001b[0m\u001b[0;34m'./Kickstarter_projects_Feb19.csv'\u001b[0m\u001b[0;34m)\u001b[0m\u001b[0;34m\u001b[0m\u001b[0;34m\u001b[0m\u001b[0m\n\u001b[0;32m---> 41\u001b[0;31m     \u001b[0mkickstarter_clean\u001b[0m \u001b[0;34m=\u001b[0m \u001b[0mcleaning\u001b[0m\u001b[0;34m(\u001b[0m\u001b[0mkickstarter\u001b[0m\u001b[0;34m)\u001b[0m\u001b[0;34m\u001b[0m\u001b[0;34m\u001b[0m\u001b[0m\n\u001b[0m\u001b[1;32m     42\u001b[0m     \u001b[0mfigure\u001b[0m \u001b[0;34m=\u001b[0m \u001b[0manalyze\u001b[0m\u001b[0;34m(\u001b[0m\u001b[0mkickstarter_clean\u001b[0m\u001b[0;34m)\u001b[0m\u001b[0;34m\u001b[0m\u001b[0;34m\u001b[0m\u001b[0m\n\u001b[1;32m     43\u001b[0m     \u001b[0mreport\u001b[0m\u001b[0;34m(\u001b[0m\u001b[0mfigure\u001b[0m\u001b[0;34m)\u001b[0m\u001b[0;34m\u001b[0m\u001b[0;34m\u001b[0m\u001b[0m\n",
      "\u001b[0;32m<ipython-input-5-dddcfc32f366>\u001b[0m in \u001b[0;36mcleaning\u001b[0;34m(my_data)\u001b[0m\n\u001b[1;32m     12\u001b[0m \u001b[0;32mdef\u001b[0m \u001b[0mcleaning\u001b[0m\u001b[0;34m(\u001b[0m\u001b[0mmy_data\u001b[0m\u001b[0;34m)\u001b[0m\u001b[0;34m:\u001b[0m\u001b[0;34m\u001b[0m\u001b[0;34m\u001b[0m\u001b[0m\n\u001b[1;32m     13\u001b[0m     \u001b[0mmy_data\u001b[0m \u001b[0;34m=\u001b[0m \u001b[0mwrangling\u001b[0m\u001b[0;34m.\u001b[0m\u001b[0mnew_column\u001b[0m\u001b[0;34m(\u001b[0m\u001b[0mmy_data\u001b[0m\u001b[0;34m,\u001b[0m \u001b[0;34m\"usd_pledged\"\u001b[0m\u001b[0;34m,\u001b[0m \u001b[0;34m\"goal_usd\"\u001b[0m\u001b[0;34m)\u001b[0m\u001b[0;34m\u001b[0m\u001b[0;34m\u001b[0m\u001b[0m\n\u001b[0;32m---> 14\u001b[0;31m     \u001b[0mcategory\u001b[0m \u001b[0;34m=\u001b[0m \u001b[0mwrangling\u001b[0m\u001b[0;34m.\u001b[0m\u001b[0mcategory\u001b[0m\u001b[0;34m(\u001b[0m\u001b[0mmy_data\u001b[0m\u001b[0;34m,\u001b[0m\u001b[0;34m'main_category'\u001b[0m\u001b[0;34m)\u001b[0m\u001b[0;34m\u001b[0m\u001b[0;34m\u001b[0m\u001b[0m\n\u001b[0m\u001b[1;32m     15\u001b[0m     \u001b[0mtypes\u001b[0m \u001b[0;34m=\u001b[0m \u001b[0mwrangling\u001b[0m\u001b[0;34m.\u001b[0m\u001b[0mtypes\u001b[0m\u001b[0;34m(\u001b[0m\u001b[0mmy_data\u001b[0m\u001b[0;34m,\u001b[0m \u001b[0;34m\"main_category\"\u001b[0m\u001b[0;34m,\u001b[0m \u001b[0;34m\"goal_usd\"\u001b[0m\u001b[0;34m,\u001b[0m \u001b[0;34m\"usd_pledged\"\u001b[0m\u001b[0;34m)\u001b[0m\u001b[0;34m\u001b[0m\u001b[0;34m\u001b[0m\u001b[0m\n\u001b[1;32m     16\u001b[0m     \u001b[0mcountry\u001b[0m \u001b[0;34m=\u001b[0m \u001b[0mwrangling\u001b[0m\u001b[0;34m.\u001b[0m\u001b[0mcountry\u001b[0m\u001b[0;34m(\u001b[0m\u001b[0mmy_data\u001b[0m\u001b[0;34m,\u001b[0m \u001b[0;34m\"country\"\u001b[0m\u001b[0;34m)\u001b[0m\u001b[0;34m\u001b[0m\u001b[0;34m\u001b[0m\u001b[0m\n",
      "\u001b[0;31mAttributeError\u001b[0m: module 'wrangling' has no attribute 'category'"
     ]
    }
   ],
   "source": [
    "import acquisition\n",
    "import wrangling\n",
    "import analysis\n",
    "import reporting\n",
    "\n",
    "\n",
    "def read_file(file):\n",
    "    my_data = acquisition.load_data(file)\n",
    "    return my_data\n",
    "\n",
    "\n",
    "def cleaning(my_data):\n",
    "    my_data = wrangling.new_column(my_data, \"usd_pledged\", \"goal_usd\")\n",
    "    category = wrangling.category(my_data,'main_category')\n",
    "    types = wrangling.types(my_data, \"main_category\", \"goal_usd\", \"usd_pledged\")\n",
    "    country = wrangling.country(my_data, \"country\")\n",
    "    start = wrangling.star(my_data, \"start_month\", \"id\")\n",
    "    end = wrangling.end(my_data, \"end_month\", \"id\")\n",
    "    success = wrangling.success(df, \"status\", \"id\")\n",
    "    return my_data, category, types, country, start, end, success\n",
    "\n",
    "def analyze(my_data):\n",
    "    plot_boxplot = analysis.plot_boxplot(\"usd_pledged\", my_data)\n",
    "    plot_bar1 = analysis.plot_bar(category)\n",
    "    plot_bar2 = analysis.plot_bar(types)\n",
    "    plot_scatter = analysis.plot_scatter(my_data, \"duration\", \"usd_pledged\")\n",
    "    plot_bar3 = analysis.plot_bar(country)\n",
    "    plot_line1 = analysis.plot_line(start)\n",
    "    plot_line2 = analysis.plot_line(end)\n",
    "    plot_hist = analysis.plot_hist(my_data, 'duration')\n",
    "    plot_bar4 = analysis.plot_bar(success)\n",
    "    return plot_boxplot, plot_bar1, plot_bar2, plot_scatter, plot_bar3, plot_line1, plot_line2, plot_hist, plot_bar4\n",
    "\n",
    "def report(plot):\n",
    "\n",
    "    plot = reporting.download_plot(plot)\n",
    "    return plot\n",
    "\n",
    "def main():\n",
    "    kickstarter = read_file('./Kickstarter_projects_Feb19.csv')\n",
    "    kickstarter_clean = cleaning(kickstarter)\n",
    "    figure = analyze(kickstarter_clean)\n",
    "    report(figure)\n",
    "\n",
    "\n",
    "if __name__ == \"__main__\":\n",
    "    main()\n",
    "    \n"
   ]
  }
 ],
 "metadata": {
  "kernelspec": {
   "display_name": "Python 3",
   "language": "python",
   "name": "python3"
  },
  "language_info": {
   "codemirror_mode": {
    "name": "ipython",
    "version": 3
   },
   "file_extension": ".py",
   "mimetype": "text/x-python",
   "name": "python",
   "nbconvert_exporter": "python",
   "pygments_lexer": "ipython3",
   "version": "3.6.8"
  }
 },
 "nbformat": 4,
 "nbformat_minor": 2
}
